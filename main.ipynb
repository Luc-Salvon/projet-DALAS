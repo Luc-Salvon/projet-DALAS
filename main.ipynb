{
 "cells": [
  {
   "cell_type": "code",
   "execution_count": 1,
   "metadata": {},
   "outputs": [
    {
     "name": "stderr",
     "output_type": "stream",
     "text": [
      "c:\\Users\\rapha\\anaconda3\\Lib\\site-packages\\pandas\\core\\arrays\\masked.py:60: UserWarning: Pandas requires version '1.3.6' or newer of 'bottleneck' (version '1.3.5' currently installed).\n",
      "  from pandas.core import (\n"
     ]
    }
   ],
   "source": [
    "import bs4\n",
    "import lxml\n",
    "import pandas as pd\n",
    "import urllib\n",
    "import re\n",
    "\n",
    "from urllib import request\n",
    "\n",
    "base_url = \"https://howlongtobeat.com/game/\""
   ]
  },
  {
   "cell_type": "code",
   "execution_count": 2,
   "metadata": {},
   "outputs": [],
   "source": [
    "def get_title(page):\n",
    "    title = page.find(\"title\").text\n",
    "    title = title[12:].split('?')[0]\n",
    "    return title\n",
    "\n",
    "def get_rating(page):\n",
    "    rating_tag = page.find(\"a\", attrs={\"class\": \"text_primary\", \"href\": re.compile(\"/game/[0-9]+/reviews\")})\n",
    "    if rating_tag is None:\n",
    "        return \"NR\"\n",
    "\n",
    "    rating = rating_tag.text.split(\"%\")[0]\n",
    "    return rating\n",
    "\n",
    "def get_platform(page):\n",
    "    classes = page.find_all(\"div\",\"GameSummary_profile_info__HZFQu GameSummary_medium___r_ia\")\n",
    "    for classe in classes:\n",
    "        if \"Platform\" in classe.find(\"strong\").text:\n",
    "            platform = classe.text\n",
    "            platform = platform.split(\":\")[1][1:]\n",
    "            platform = platform.split(', ')\n",
    "            return platform\n",
    "    return [\"NP\"] # pas de plateforme renseignee\n",
    "\n",
    "def get_genre(page):\n",
    "    classes = page.find_all(\"div\",\"GameSummary_profile_info__HZFQu GameSummary_medium___r_ia\")\n",
    "    for classe in classes:\n",
    "        if \"Genre\" in classe.find(\"strong\").text:\n",
    "            genre = classe.text\n",
    "            genre = genre.split(\":\")[1][1:]\n",
    "            genre = genre.split(', ')\n",
    "            return genre\n",
    "    return [\"NG\"] # pas de genre renseigne\n",
    "\n",
    "def get_date(page):\n",
    "    classes = page.find_all(\"div\",\"GameSummary_profile_info__HZFQu\")\n",
    "    for classe in classes:\n",
    "        description = classe.find(\"strong\")\n",
    "        if description != None:\n",
    "            if \"NA\" in description.text:\n",
    "                date = classe.text\n",
    "                date = date.split(\":\")[1][1:]\n",
    "                return int(date[-4:])\n",
    "    return \"ND\" # pas de date renseignee\n",
    "\n",
    "def get_time(page):\n",
    "    table = page.find(\"table\",\"GameTimeTable_game_main_table__7uN3H\")\n",
    "    if table != None:\n",
    "        colonne_main_story = table.find(\"tr\",\"spreadsheet\")\n",
    "        time_main_story = colonne_main_story.find_all(\"td\")[2]\n",
    "        time_main_story = time_main_story.text\n",
    "        time_main_story = time_main_story.split(\" \")\n",
    "        if len(time_main_story)>1:\n",
    "            heures = float(time_main_story[0][:-1])\n",
    "            minutes = float(time_main_story[1][:-1])\n",
    "            time = heures + minutes*1/60\n",
    "        else:\n",
    "            time = time_main_story[0][:-1]\n",
    "\n",
    "        return float(time)\n",
    "    else:\n",
    "        return \"NT\" # temps non renseigné\n",
    "\n",
    "\n",
    "\n",
    "\n"
   ]
  },
  {
   "cell_type": "code",
   "execution_count": 12,
   "metadata": {},
   "outputs": [
    {
     "name": "stderr",
     "output_type": "stream",
     "text": [
      "C:\\Users\\rapha\\AppData\\Local\\Temp\\ipykernel_18328\\235579172.py:15: FutureWarning: The behavior of DataFrame concatenation with empty or all-NA entries is deprecated. In a future version, this will no longer exclude empty or all-NA columns when determining the result dtypes. To retain the old behavior, exclude the relevant entries before the concat operation.\n",
      "  df = pd.concat([df,df2],ignore_index=True)\n"
     ]
    }
   ],
   "source": [
    "df = pd.DataFrame(columns=[\"title\",\"rating\",\"platform\",\"avg_time\",\"genre\",\"date\"])\n",
    "\n",
    "# 108288\n",
    "for i in range(40000, 40030):\n",
    "    try:\n",
    "        request_text = request.urlopen(base_url + str(i)).read()\n",
    "        page = bs4.BeautifulSoup(request_text, \"lxml\")\n",
    "    except urllib.error.HTTPError:\n",
    "        continue\n",
    "\n",
    "    df2 = pd.DataFrame({\"title\":get_title(page),\"rating\":get_rating(page),\n",
    "                    \"platform\":[get_platform(page)],\"avg_time\":get_time(page),\n",
    "                    \"genre\":[get_genre(page)],\"date\":get_date(page)})\n",
    "    \n",
    "    df = pd.concat([df,df2],ignore_index=True)\n",
    "    \n",
    "    #df = df.append(df2,ignore_index=True)\n",
    "\n",
    "df"
   ]
  }
 ],
 "metadata": {
  "kernelspec": {
   "display_name": "base",
   "language": "python",
   "name": "python3"
  },
  "language_info": {
   "codemirror_mode": {
    "name": "ipython",
    "version": 3
   },
   "file_extension": ".py",
   "mimetype": "text/x-python",
   "name": "python",
   "nbconvert_exporter": "python",
   "pygments_lexer": "ipython3",
   "version": "3.11.4"
  }
 },
 "nbformat": 4,
 "nbformat_minor": 2
}
